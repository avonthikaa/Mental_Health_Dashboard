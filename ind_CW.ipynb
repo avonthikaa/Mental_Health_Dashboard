{
  "nbformat": 4,
  "nbformat_minor": 0,
  "metadata": {
    "colab": {
      "provenance": [],
      "mount_file_id": "1Dx-r6tW1suKekiF1DmD5zMiLqrIb06gb",
      "authorship_tag": "ABX9TyNH+3Kbm3YS5OoQAmFAMEEt",
      "include_colab_link": true
    },
    "kernelspec": {
      "name": "python3",
      "display_name": "Python 3"
    },
    "language_info": {
      "name": "python"
    }
  },
  "cells": [
    {
      "cell_type": "markdown",
      "metadata": {
        "id": "view-in-github",
        "colab_type": "text"
      },
      "source": [
        "<a href=\"https://colab.research.google.com/github/avonthikaa/Mental-health-dashboard/blob/main/ind_CW.ipynb\" target=\"_parent\"><img src=\"https://colab.research.google.com/assets/colab-badge.svg\" alt=\"Open In Colab\"/></a>"
      ]
    },
    {
      "cell_type": "code",
      "execution_count": null,
      "metadata": {
        "id": "jNkynCfMWMAQ"
      },
      "outputs": [],
      "source": [
        "# Step 1: Import libraries\n",
        "import pandas as pd"
      ]
    },
    {
      "cell_type": "code",
      "source": [
        "# Step 2: Load the CSV\n",
        "df = pd.read_csv('/content/mental_health_indicators_lka.csv')"
      ],
      "metadata": {
        "id": "WLzNFQKsWUWd"
      },
      "execution_count": null,
      "outputs": []
    },
    {
      "cell_type": "code",
      "source": [
        "# Step 3: Remove the first dummy row (bad header)\n",
        "df = df.drop(index=0).reset_index(drop=True)"
      ],
      "metadata": {
        "id": "5AsaKBY7Wgke"
      },
      "execution_count": null,
      "outputs": []
    },
    {
      "cell_type": "code",
      "source": [
        "# Step 4: Keep only important columns\n",
        "df = df[['YEAR (DISPLAY)', 'COUNTRY (DISPLAY)', 'DIMENSION (NAME)', 'GHO (DISPLAY)', 'Value']]"
      ],
      "metadata": {
        "id": "giQHbNnuWiQ2"
      },
      "execution_count": null,
      "outputs": []
    },
    {
      "cell_type": "code",
      "source": [
        "#Step 5: Rename the columns for easy use\n",
        "df = df.rename(columns={\n",
        "    'YEAR (DISPLAY)': 'Year',\n",
        "    'COUNTRY (DISPLAY)': 'Country',\n",
        "    'DIMENSION (NAME)': 'Gender',\n",
        "    'GHO (DISPLAY)': 'Indicator',\n",
        "    'Value': 'Value'\n",
        "})"
      ],
      "metadata": {
        "id": "qynr9XVBWsLZ"
      },
      "execution_count": null,
      "outputs": []
    },
    {
      "cell_type": "code",
      "source": [
        "# Step 6: Clean the 'Value' column (remove brackets if present)\n",
        "# Keep only the first number before a space\n",
        "df['Value'] = df['Value'].astype(str).str.split(' ').str[0]\n",
        "df['Value'] = pd.to_numeric(df['Value'], errors='coerce')  # Convert to numeric"
      ],
      "metadata": {
        "id": "-tmnauFoW_x_"
      },
      "execution_count": null,
      "outputs": []
    },
    {
      "cell_type": "code",
      "source": [
        "# Step 7: Keep only rows related to Sri Lanka\n",
        "df = df[df['Country'] == 'Sri Lanka']"
      ],
      "metadata": {
        "id": "Ss31yQNpXDhi"
      },
      "execution_count": null,
      "outputs": []
    },
    {
      "cell_type": "code",
      "source": [
        "# Step 8: Save the cleaned dataset\n",
        "df.to_csv('mental_health_cleaned.csv', index=False)"
      ],
      "metadata": {
        "id": "QRLAFiHEXFUe"
      },
      "execution_count": null,
      "outputs": []
    },
    {
      "cell_type": "code",
      "source": [
        "print(\"Dataset cleaned and saved as 'mental_health_cleaned.csv'!\")\n",
        "print(df.head())"
      ],
      "metadata": {
        "colab": {
          "base_uri": "https://localhost:8080/"
        },
        "id": "MCY2cOptXJFF",
        "outputId": "df92e297-166c-44b1-e070-ffbf66e053c6"
      },
      "execution_count": null,
      "outputs": [
        {
          "output_type": "stream",
          "name": "stdout",
          "text": [
            "Dataset cleaned and saved as 'mental_health_cleaned.csv'!\n",
            "   Year    Country      Gender  \\\n",
            "0  2005  Sri Lanka      Female   \n",
            "1  2004  Sri Lanka  Both sexes   \n",
            "2  2019  Sri Lanka        Male   \n",
            "3  2019  Sri Lanka      Female   \n",
            "4  2006  Sri Lanka        Male   \n",
            "\n",
            "                                           Indicator  Value  \n",
            "0  Age-standardized suicide rates (per 100 000 po...   18.4  \n",
            "1  Age-standardized suicide rates (per 100 000 po...   22.1  \n",
            "2       Crude suicide rates (per 100 000 population)   61.6  \n",
            "3       Crude suicide rates (per 100 000 population)    6.2  \n",
            "4  Age-standardized suicide rates (per 100 000 po...   29.9  \n"
          ]
        }
      ]
    },
    {
      "cell_type": "code",
      "source": [],
      "metadata": {
        "id": "dc5O1rRbXL60"
      },
      "execution_count": null,
      "outputs": []
    }
  ]
}